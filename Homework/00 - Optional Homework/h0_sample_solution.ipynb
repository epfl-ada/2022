{
 "cells": [
  {
   "cell_type": "code",
   "execution_count": 1,
   "metadata": {},
   "outputs": [],
   "source": [
    "import pandas as pd\n",
    "import os"
   ]
  },
  {
   "cell_type": "code",
   "execution_count": 5,
   "metadata": {},
   "outputs": [
    {
     "data": {
      "text/html": [
       "<div>\n",
       "<style scoped>\n",
       "    .dataframe tbody tr th:only-of-type {\n",
       "        vertical-align: middle;\n",
       "    }\n",
       "\n",
       "    .dataframe tbody tr th {\n",
       "        vertical-align: top;\n",
       "    }\n",
       "\n",
       "    .dataframe thead th {\n",
       "        text-align: right;\n",
       "    }\n",
       "</style>\n",
       "<table border=\"1\" class=\"dataframe\">\n",
       "  <thead>\n",
       "    <tr style=\"text-align: right;\">\n",
       "      <th></th>\n",
       "      <th>Intent</th>\n",
       "      <th>Gender</th>\n",
       "      <th>Age</th>\n",
       "      <th>Race</th>\n",
       "      <th>Deaths</th>\n",
       "      <th>Population</th>\n",
       "      <th>Rate</th>\n",
       "    </tr>\n",
       "  </thead>\n",
       "  <tbody>\n",
       "    <tr>\n",
       "      <th>1</th>\n",
       "      <td>None selected</td>\n",
       "      <td>None selected</td>\n",
       "      <td>None selected</td>\n",
       "      <td>None selected</td>\n",
       "      <td>33599</td>\n",
       "      <td>316299978</td>\n",
       "      <td>10.6</td>\n",
       "    </tr>\n",
       "    <tr>\n",
       "      <th>2</th>\n",
       "      <td>None selected</td>\n",
       "      <td>None selected</td>\n",
       "      <td>None selected</td>\n",
       "      <td>White</td>\n",
       "      <td>22079</td>\n",
       "      <td>197369634</td>\n",
       "      <td>11.2</td>\n",
       "    </tr>\n",
       "    <tr>\n",
       "      <th>3</th>\n",
       "      <td>None selected</td>\n",
       "      <td>None selected</td>\n",
       "      <td>None selected</td>\n",
       "      <td>Black</td>\n",
       "      <td>7765</td>\n",
       "      <td>38896382</td>\n",
       "      <td>20.0</td>\n",
       "    </tr>\n",
       "    <tr>\n",
       "      <th>4</th>\n",
       "      <td>None selected</td>\n",
       "      <td>None selected</td>\n",
       "      <td>None selected</td>\n",
       "      <td>Hispanic</td>\n",
       "      <td>3007</td>\n",
       "      <td>54049078</td>\n",
       "      <td>5.6</td>\n",
       "    </tr>\n",
       "    <tr>\n",
       "      <th>5</th>\n",
       "      <td>None selected</td>\n",
       "      <td>None selected</td>\n",
       "      <td>None selected</td>\n",
       "      <td>Asian/Pacific Islander</td>\n",
       "      <td>442</td>\n",
       "      <td>16315561</td>\n",
       "      <td>2.7</td>\n",
       "    </tr>\n",
       "  </tbody>\n",
       "</table>\n",
       "</div>"
      ],
      "text/plain": [
       "          Intent         Gender            Age                    Race  \\\n",
       "1  None selected  None selected  None selected           None selected   \n",
       "2  None selected  None selected  None selected                   White   \n",
       "3  None selected  None selected  None selected                   Black   \n",
       "4  None selected  None selected  None selected                Hispanic   \n",
       "5  None selected  None selected  None selected  Asian/Pacific Islander   \n",
       "\n",
       "   Deaths  Population  Rate  \n",
       "1   33599   316299978  10.6  \n",
       "2   22079   197369634  11.2  \n",
       "3    7765    38896382  20.0  \n",
       "4    3007    54049078   5.6  \n",
       "5     442    16315561   2.7  "
      ]
     },
     "execution_count": 5,
     "metadata": {},
     "output_type": "execute_result"
    }
   ],
   "source": [
    "## Reading the 'interactive_data.csv' file as a pandas dataframe\n",
    "import pandas as pd\n",
    "url = 'https://raw.githubusercontent.com/fivethirtyeight/guns-data/master/interactive_data.csv'\n",
    "df = pd.read_csv(url,index_col=0)\n",
    "df.head(5)"
   ]
  },
  {
   "cell_type": "code",
   "execution_count": 3,
   "metadata": {},
   "outputs": [],
   "source": [
    "## Note that there are other ways to approach this analysis, the following is one possible correct solution.\n",
    "## The file 'interactive_data.csv' contains aggregations across different categorical filters.\n",
    "## Specifically, 'None selected' corresponds to the case when a filter is not applied to a column.\n",
    "## Thus, such cases correspond to all possible values under that column.\n",
    "## For example, if all columns have the entry 'None selected', then this corresponds to an aggregation across all entries.\n",
    "## Thus, the first pre-processing step is to remove rows where at least one column has the value 'None selected'.\n",
    "df_filtered = df.loc[~(df=='None selected').any(axis=1)]"
   ]
  },
  {
   "cell_type": "code",
   "execution_count": 4,
   "metadata": {},
   "outputs": [
    {
     "name": "stdout",
     "output_type": "stream",
     "text": [
      "62.68194671826165% of gun deaths are suicides.\n",
      "86.24275809668535% of suicide victims are male.\n",
      "34.906980205387704% of gun deaths are homicides.\n",
      "66.12482748044778% of homicide victims who are males in the age-group of 15--34 are black.\n",
      "Women constitue only 15.289502856655583% of the total homicide victims.\n"
     ]
    }
   ],
   "source": [
    "## Compute #deaths\n",
    "all_deaths = df_filtered['Deaths'].sum()\n",
    "\n",
    "## Compute #suicides\n",
    "suicides = df_filtered[df_filtered['Intent'] == 'Suicide']['Deaths'].sum()\n",
    "print(f'{suicides/all_deaths*100}% of gun deaths are suicides.')\n",
    "\n",
    "## Compute #male-suicides\n",
    "male_suicides = df_filtered[\n",
    "                    (df_filtered['Intent'] == 'Suicide') & \n",
    "                    (df_filtered['Gender'] == 'Male')\n",
    "                ]['Deaths'].sum()\n",
    "print(f'{male_suicides/suicides*100}% of suicide victims are male.')\n",
    "\n",
    "## Compute #homicides\n",
    "homicides = df_filtered[\n",
    "                (df_filtered['Intent'] == 'Homicide')\n",
    "            ]['Deaths'].sum()\n",
    "print(f'{homicides/all_deaths*100}% of gun deaths are homicides.')\n",
    "\n",
    "## Compute #young-black-male-homicides\n",
    "young_black_male_homicides = df_filtered[\n",
    "                                (df_filtered['Intent'] == 'Homicide') & \n",
    "                                (df_filtered['Gender'] == 'Male') & \n",
    "                                (df_filtered['Age'] == '15 - 34') & \n",
    "                                (df_filtered['Race'] == 'Black')\n",
    "                            ]['Deaths'].sum()\n",
    "\n",
    "## Compute #young-male-homicides\n",
    "young_male_homicides = df_filtered[\n",
    "                            (df_filtered['Intent'] == 'Homicide') & \n",
    "                            (df_filtered['Gender'] == 'Male') & \n",
    "                            (df_filtered['Age'] == '15 - 34')\n",
    "                        ]['Deaths'].sum()\n",
    "print(f'{young_black_male_homicides/young_male_homicides*100}% of homicide victims who are males in the age-group of 15--34 are black.')\n",
    "\n",
    "## Compute #women-homicides\n",
    "women_homicides = df_filtered[\n",
    "                        (df_filtered['Intent'] == 'Homicide') & \n",
    "                        (df_filtered['Gender'] == 'Female')\n",
    "                    ]['Deaths'].sum()\n",
    "print(f'Women constitue only {women_homicides/homicides*100}% of the total homicide victims.')"
   ]
  }
 ],
 "metadata": {
  "kernelspec": {
   "display_name": "Python 3.9.13 ('ada')",
   "language": "python",
   "name": "python3"
  },
  "language_info": {
   "codemirror_mode": {
    "name": "ipython",
    "version": 3
   },
   "file_extension": ".py",
   "mimetype": "text/x-python",
   "name": "python",
   "nbconvert_exporter": "python",
   "pygments_lexer": "ipython3",
   "version": "3.9.13"
  },
  "vscode": {
   "interpreter": {
    "hash": "10d059aaca96fc9c3493bab5d1c0141ba04039945f551b22f762be411355277a"
   }
  }
 },
 "nbformat": 4,
 "nbformat_minor": 2
}
